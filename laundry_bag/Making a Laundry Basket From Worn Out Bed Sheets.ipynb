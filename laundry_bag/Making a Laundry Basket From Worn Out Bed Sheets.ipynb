{
 "cells": [
  {
   "cell_type": "markdown",
   "id": "helpful-shoot",
   "metadata": {},
   "source": [
    "# Makiing a Laundry Basket from Worn Out Bed Sheets\n",
    "\n",
    "This notebook is for designing a laundry basket out of worn out bed sheets.\n",
    "\n",
    "The bed sheets can be cut into strips that can be twisted into rope.  This YouTube video shows how: https://youtu.be/-XfpFhnh8xg\n",
    "\n",
    "\n",
    "This video demonstrates how an African rope basket can be woven from such rope: https://youtu.be/g79RuscjyuA"
   ]
  },
  {
   "cell_type": "markdown",
   "id": "interior-minister",
   "metadata": {},
   "source": [
    "The volume of the laundry bag might be informed by the capacity of my washing machine tub:"
   ]
  },
  {
   "cell_type": "code",
   "execution_count": 168,
   "id": "irish-puzzle",
   "metadata": {},
   "outputs": [
    {
     "name": "stdout",
     "output_type": "stream",
     "text": [
      "Estimated capacity of washing machine tub:  3849.2363988108937\n"
     ]
    }
   ],
   "source": [
    "import math\n",
    "\n",
    "# Dimensions of the washing machine tub:\n",
    "washing_machine_tub_depth = 13          # inches\n",
    "washing_machine_tub_diameter = 21       # inches\n",
    "washing_machine_agitator_diameter = 8   # inches\n",
    "\n",
    "def square (x): return x * x\n",
    "\n",
    "washing_machine_tub_capacity = (\n",
    "    (math.pi * square(washing_machine_tub_diameter / 2) -\n",
    "     math.pi * square(washing_machine_agitator_diameter / 2)) *\n",
    "    washing_machine_tub_depth)    # cubic inches\n",
    "\n",
    "print(\"Estimated capacity of washing machine tub: \", washing_machine_tub_capacity)"
   ]
  },
  {
   "cell_type": "markdown",
   "id": "spanish-diploma",
   "metadata": {},
   "source": [
    "I had been using a cardboard box as a laundry basket, but it wore out after many years of service.  I no longer have that box.  I can estimate its dimensions from a previous attempt at making a laundry bag which was formed around that box:"
   ]
  },
  {
   "cell_type": "code",
   "execution_count": 169,
   "id": "sealed-native",
   "metadata": {
    "scrolled": true
   },
   "outputs": [
    {
     "name": "stdout",
     "output_type": "stream",
     "text": [
      "Old laundry box capacity:  3126.5\n"
     ]
    }
   ],
   "source": [
    "# Estimated dimensions of old laundry box:\n",
    "box_bag_length = 18.5    # inches\n",
    "box_bag_width = 13       # inches\n",
    "box_bag_depth = 13       # inches\n",
    "\n",
    "box_bag_capacity = box_bag_length * box_bag_width * box_bag_depth   # cubix inches\n",
    "\n",
    "print(\"Old laundry box capacity: \", box_bag_capacity)"
   ]
  },
  {
   "cell_type": "markdown",
   "id": "wooden-fossil",
   "metadata": {},
   "source": [
    "The opening of the dryer should also inform the size and shape of the basket.  The basket should be no taller than the bottom of the dryer opening.\n",
    "\n",
    "We might also want the basket to be as wide as the dryer opening."
   ]
  },
  {
   "cell_type": "code",
   "execution_count": 170,
   "id": "impressed-plenty",
   "metadata": {},
   "outputs": [],
   "source": [
    "# Dryer opening:\n",
    "dryer_opening_height = 13    # inches (bottom of opening to floor)\n",
    "dryer_opening_width = 22     # inches"
   ]
  },
  {
   "cell_type": "markdown",
   "id": "strong-august",
   "metadata": {},
   "source": [
    "## Design Metrics\n",
    "The dimensions above inform these design parameters for the basket.\n",
    "\n",
    "Since the basket will likely have a round rectangular or oval footprint, the calculated basket_capacity below is a crude estimate.\n",
    "\n",
    "The basket has sides (from which the handles extend), ends, and a bottom.\n",
    "\n",
    "Depth is measured from the bottom of the basket to its brim."
   ]
  },
  {
   "cell_type": "code",
   "execution_count": 171,
   "id": "listed-cleaning",
   "metadata": {},
   "outputs": [
    {
     "name": "stdout",
     "output_type": "stream",
     "text": [
      "capabsity of basket's bounding box:  3718\n"
     ]
    }
   ],
   "source": [
    "# Design metrics\n",
    "\n",
    "basket_length = dryer_opening_width\n",
    "basket_width = box_bag_width\n",
    "basket_depth = dryer_opening_height\n",
    "\n",
    "basket_capacity = basket_length * basket_width * basket_depth   # cubic inches\n",
    "\n",
    "print(\"capabsity of basket's bounding box: \", basket_capacity)"
   ]
  },
  {
   "cell_type": "markdown",
   "id": "understanding-selling",
   "metadata": {},
   "source": [
    "## Cloth Rope Parametrers\n",
    "\n",
    "Rope can be twisted from two strips torn from old bed sheets in accordance with the method demonstrated in the YouTume video above.\n",
    "\n",
    "The strips have a nominal width that was measured before they were torn.  Their actual width is a bit narrower due to the romoval of frayed edge strands."
   ]
  },
  {
   "cell_type": "code",
   "execution_count": 172,
   "id": "ancient-scale",
   "metadata": {
    "scrolled": true
   },
   "outputs": [
    {
     "name": "stdout",
     "output_type": "stream",
     "text": [
      "rope density: 0.15 ounces per linear foot\n"
     ]
    }
   ],
   "source": [
    "# Rope from strips:\n",
    "\n",
    "strip_width = 1.5             # inches\n",
    "strips_per_rope = 2\n",
    "\n",
    "# Measured from a small sample of twisted rope:\n",
    "rope_density = (3.6 /         # ounces\n",
    "                24)           # linear feet of twisted rope\n",
    "\n",
    "print(\"rope density: \" + str(rope_density) + \" ounces per linear foot\")\n",
    "\n",
    "# we can tie a figure eight knot at each end of a\n",
    "# strand of rope to keep it from untwisting while\n",
    "# the basket is being worked.  We can measure how\n",
    "# much rope goes into a figure eight knot:\n",
    "figure_eight_length = 3       # inches"
   ]
  },
  {
   "cell_type": "markdown",
   "id": "stunning-syracuse",
   "metadata": {},
   "source": [
    "## Construction Based on African Basket Weaving\n",
    "\n",
    "The basket will be formed by a set of vertical ribs each of which crosses the bottom of the basket and extends up the sides.  The ribs will be composed of two strip ropes as described above.\n",
    "\n",
    "The ribs are bound together by a horizontal \"African basket\" weave as demonstrated in the above YouTube video.  Two individual strips will be twisted and woven through the ribs.\n",
    "\n",
    "The rope for a pair of ribs will descend down one side, run across the bottom and extend up the other side.\n",
    "\n",
    "Each rib will also require extra length at each end for finishing at the brim of the basket.  My plan is to somehow weave these ends into and around the basket's brim.\n",
    "\n",
    "NOTE: The use of the word \"rib\" in this document is somewhat ambiguous.  \"rib\" could refer to a single vertical rope on one side or end of the basket, or to the single length of cord that forms a pair of such ribs.  A side rib cord would descend one side, stretch across the bottom and up the other side of the basket.  The middle end rib cord would descend, fold onto itself and ascend back to the brim forming two end ribs.  Each additional end rib cord descends, curves around the rib cord just to the center of it, and ascends the other side to the brim.\n"
   ]
  },
  {
   "cell_type": "code",
   "execution_count": 173,
   "id": "jewish-democracy",
   "metadata": {
    "scrolled": true
   },
   "outputs": [
    {
     "name": "stdout",
     "output_type": "stream",
     "text": [
      "Rib length: 59 inches\n"
     ]
    }
   ],
   "source": [
    "# Vertical ribs\n",
    "# This is an ititial calculation of side rib length\n",
    "# based on a \"rectangular\" basket.  This is refined\n",
    "# when we model different basket shapes below.\n",
    "\n",
    "rib_top_extra = 10    # inch, extra at each end of a rib cord.\n",
    "rib_length = (2 * basket_depth +\n",
    "              basket_width +\n",
    "              2 * rib_top_extra)\n",
    "\n",
    "print(\"Rib length: \" + str(rib_length) + \" inches\")"
   ]
  },
  {
   "cell_type": "markdown",
   "id": "cross-plasma",
   "metadata": {},
   "source": [
    "### Gauge\n",
    "\n",
    "How many parallel ribs does it take to reach a given length of basket wall?\n",
    "\n",
    "I wove a sample with 18 ribs.  I wove two rows (from one edge to the other and back again) to get these measurements:"
   ]
  },
  {
   "cell_type": "code",
   "execution_count": 174,
   "id": "dental-speaker",
   "metadata": {},
   "outputs": [
    {
     "name": "stdout",
     "output_type": "stream",
     "text": [
      "ribs per inch:  2.769230769230769\n",
      "weave height:  0.25\n"
     ]
    }
   ],
   "source": [
    "# Gauge\n",
    "\n",
    "height_per_row_woven = 0.5 / 2    # inches per row\n",
    "strip_per_stitch = 44 / 36        # inches per stitch\n",
    "ribs_per_inch = 18 / 6.5\n",
    "\n",
    "print(\"ribs per inch: \", ribs_per_inch)\n",
    "print(\"weave height: \", height_per_row_woven)"
   ]
  },
  {
   "cell_type": "markdown",
   "id": "entertaining-keeping",
   "metadata": {},
   "source": [
    "### Ends\n",
    "\n",
    "Somehow we need to close each end of the bag in such a way that the bag reaches it's designed width.\n",
    "\n",
    "If the last side rib at each end of the basket were joined to itself (on the other side of the basket) we would make an envelope, rather than a basket.  Instead we need to gradually insert ribs from the bottom up.  This should give us rounded ends.\n",
    "\n",
    "What if we add one rib cord (forming two ribs) at each end, for each row of weaving?  Here we assume this will form a quarter sphere at the bottom of each end.\n"
   ]
  },
  {
   "cell_type": "markdown",
   "id": "threatened-teddy",
   "metadata": {},
   "source": [
    "## Modeling the Shape of the Basket\n",
    "\n",
    "To determine if a basket design meets our needs, we need to model the shape of the basket and calculate the resulting dimensions and material required.  Here we consider several different models for the basket depending on our best guess at the resulting shape of the bottom and ends.  They are all models.\n",
    "\n",
    "Each model is parameterized by the Design Metrics defined above."
   ]
  },
  {
   "cell_type": "code",
   "execution_count": 175,
   "id": "dental-nerve",
   "metadata": {},
   "outputs": [],
   "source": [
    "# BaseBasketModel\n",
    "\n",
    "from abc import ABC\n",
    "from functools import reduce\n",
    "from operator import add\n",
    "\n",
    "class BaseBasketModel (ABC):\n",
    "    \"\"\"BaseBasketModel is the Abstract base class for all of our basket models.\"\"\"\n",
    "    def __init__(self,\n",
    "                 basket_length=basket_length,\n",
    "                 basket_width=basket_width,\n",
    "                 basket_depth=basket_depth):\n",
    "        self.basket_length = basket_length\n",
    "        self.basket_width = basket_width\n",
    "        self.basket_depth = basket_depth\n",
    "\n",
    "    def __repr__(self):\n",
    "        return \"%s(%d, %d, %d)\" % (\n",
    "            self.__class__.__name__,\n",
    "            self.basket_length,\n",
    "            self.basket_width,\n",
    "            self.basket_depth)\n",
    "\n",
    "    @property\n",
    "    def total_rib_length(self):\n",
    "        return (self.side_rib_length * self.side_rib_count +\n",
    "                2 * reduce(add, self.end_rib_lengths))\n",
    "\n",
    "    @property\n",
    "    def total_weight(self):\n",
    "        # This doesn't consider the weight of the\n",
    "        # horizontal stitching:\n",
    "        return self.total_rib_length * rope_density\n",
    "\n",
    "def show_model(model):\n",
    "    print(repr(model))\n",
    "    print(\"\\tvolume: \", model.volume, \" cubic inches\")\n",
    "    print(\"\\ttotal weight: \", model.total_weight, \" ounces\")\n",
    "    print(\"\\ttotal rib length: \", \n",
    "          model.total_rib_length / 12,\n",
    "          \" feet\")\n"
   ]
  },
  {
   "cell_type": "markdown",
   "id": "innovative-field",
   "metadata": {},
   "source": [
    "### Rectangular\n",
    "\n",
    "The Rectangular model assumes that the sides, bottom and ends will be rigid and form a rectangular prism of the design metrics.  The rigidity assumption surely will not hold.  This model is just a basis for comparing other models to."
   ]
  },
  {
   "cell_type": "code",
   "execution_count": 176,
   "id": "impressive-burns",
   "metadata": {
    "scrolled": true
   },
   "outputs": [
    {
     "name": "stdout",
     "output_type": "stream",
     "text": [
      "RectangularBasketModel(22, 13, 13)\n",
      "\tvolume:  3718  cubic inches\n",
      "\ttotal weight:  791.025  ounces\n",
      "\ttotal rib length:  439.4583333333333  feet\n"
     ]
    }
   ],
   "source": [
    "# RectangularBasketModel\n",
    "\n",
    "class RectangularBasketModel(BaseBasketModel):\n",
    "    \"\"\"RectangularBasketModel provides a simple minded model\n",
    "    for a rectangular basket.\"\"\"\n",
    "        \n",
    "    @property\n",
    "    def side_rib_length(self):\n",
    "        \"\"\"side_rib_length returns the total length (including\n",
    "        any extra for basket finishing) of a standard side rib\n",
    "        for the model.\"\"\"\n",
    "        return (2 * rib_top_extra +\n",
    "                2 * self.basket_depth +\n",
    "                self.basket_width)\n",
    "\n",
    "    @property\n",
    "    def side_rib_count(self):\n",
    "        return round(self.basket_length * ribs_per_inch)\n",
    "\n",
    "    @property\n",
    "    def volume(self):\n",
    "        return (self.basket_length *\n",
    "                self.basket_width *\n",
    "                self.basket_depth)\n",
    "\n",
    "    @property\n",
    "    def end_rib_lengths(self):\n",
    "        end_rib_count = round((self.basket_width / 2)\n",
    "                              * ribs_per_inch)\n",
    "        srl = self.side_rib_length\n",
    "        # Each end rib is shorter than its outer\n",
    "        # neighbor by 1 bottom and two side rib\n",
    "        # widths:\n",
    "        return [srl - 3 * i / ribs_per_inch\n",
    "                for i in range(1, end_rib_count)]\n",
    "    \n",
    "show_model(RectangularBasketModel())"
   ]
  },
  {
   "cell_type": "markdown",
   "id": "miniature-documentary",
   "metadata": {},
   "source": [
    "### Triangular\n",
    "\n",
    "The triangular model assumes that the bottom of the basket and each end are right angles.  "
   ]
  },
  {
   "cell_type": "code",
   "execution_count": 177,
   "id": "decimal-jackson",
   "metadata": {
    "scrolled": true
   },
   "outputs": [
    {
     "name": "stdout",
     "output_type": "stream",
     "text": [
      "TriangularBasketModel(22, 13, 13)\n",
      "\tvolume:  1709.916841003421  cubic inches\n",
      "\ttotal weight:  543.2781058847493  ounces\n",
      "\ttotal rib length:  301.8211699359718  feet\n"
     ]
    }
   ],
   "source": [
    "# TriangularBasketModel\n",
    "\n",
    "def hypotaneuse2(leg1, leg2=None):\n",
    "    \"\"\"hypotaneuse2 returns the square of the length\n",
    "    of the hypotaneuse.\"\"\"\n",
    "    if leg2 == None: leg2 = leg1\n",
    "    return leg1 * leg1 + leg2 * leg2\n",
    "\n",
    "def hypotaneuse(leg1, leg2=None):\n",
    "    \"\"\"\"hypotaneuse returns the length of the hypotaneuse of a\n",
    "    right triangle with the specified legs.\"\"\"\n",
    "    if leg2 == None: leg2 = leg1\n",
    "    return math.sqrt(hypotaneuse2(leg1, leg2))\n",
    "\n",
    "def unhypotaneuse(hypotaneuse):\n",
    "    \"\"\"unhypotaneuse returns the length of the leg of a right\n",
    "    isoscles triangle whose unhypotaneuse has the specified\n",
    "    length.\"\"\"\n",
    "    return math.sqrt(hypotaneuse * hypotaneuse / 2)\n",
    "\n",
    "def octahedron_volume(edge):\n",
    "    return (math.sqrt(2) / 3) * square(edge)\n",
    "\n",
    "\n",
    "class TriangularBasketModel(BaseBasketModel):\n",
    "    \"\"\"TriangularBasketModel provides a simple minded model\n",
    "    for a triangular basket.\"\"\"\n",
    "        \n",
    "    def rib_length(self, center_distance):\n",
    "        # center_distance is basket_width/2 for a side rib\n",
    "        # or the distance from the center line of the basket\n",
    "        # for an end rob.\n",
    "        return 2 * (rib_top_extra +\n",
    "                    (self.basket_depth - center_distance) +\n",
    "                    hypotaneuse(center_distance))\n",
    "\n",
    "    @property\n",
    "    def side_rib_length(self):\n",
    "        \"\"\"side_rib_length returns the total length (including\n",
    "        any extra for basket finishing) of a standard side rib\n",
    "        for the model.\"\"\"\n",
    "        # Sides slope in at a 45 degree angle to meet at the ends.\n",
    "        # This makes the middle, non-sloping walls of the basket\n",
    "        # shorter by half the basket width at each end.\n",
    "        return self.rib_length(self.basket_width / 2)\n",
    "\n",
    "    @property\n",
    "    def side_rib_section_length(self):\n",
    "        \"\"\"Returns the length of the flat side section\n",
    "        of the basket, for calculating the number of\n",
    "        side ribs needed.\"\"\"\n",
    "        # Each end is shorter by 1/2 basket_width (legs\n",
    "        # of a right isosclese triangle):\n",
    "        return self.basket_length - self.basket_width\n",
    "\n",
    "    @property\n",
    "    def side_rib_count(self):\n",
    "        return round(self.side_rib_section_length *\n",
    "                     ribs_per_inch)\n",
    "\n",
    "    # The bottom and each end are right triangular prisms\n",
    "    # whose base is a right triangle whose hypotaneuse has\n",
    "    # length self.basket_width.\n",
    "    @property\n",
    "    def base_triangle_area(self):\n",
    "        # 1/2 base * height where height is half of base\n",
    "        return self.basket_width * self.basket_width / 4\n",
    "\n",
    "    @property\n",
    "    def volume(self):\n",
    "        half_width = self.basket_width / 2\n",
    "        # depth of the rectangular portion of the\n",
    "        # basket's volume:\n",
    "        depth = self.basket_depth - half_width\n",
    "        base_triangle_area = self.base_triangle_area\n",
    "        return ( # The top middle section:\n",
    "                 (self.side_rib_section_length *\n",
    "                  self.basket_width *\n",
    "                  depth) +\n",
    "                 # Pointy bottom middle is a right triangular prism:\n",
    "                 (self.side_rib_section_length * base_triangle_area) +\n",
    "                 # The top part of each end is a right triangular\n",
    "                 # prism.  There is one at each end:\n",
    "                 (2 * base_triangle_area * depth) +\n",
    "                 # At the bottom of each end (where the triangular\n",
    "                 # prisms meet) is 1/4 of an octahedron.  There's one\n",
    "                 # at each end:\n",
    "                 (octahedron_volume(unhypotaneuse(self.basket_width))\n",
    "                  / 2)\n",
    "                 )\n",
    "\n",
    "    @property\n",
    "    def end_rib_lengths(self):\n",
    "        half_width = self.basket_width / 2\n",
    "        end_rib_count = round(hypotaneuse(half_width)\n",
    "                              * ribs_per_inch)\n",
    "        return [self.rib_length(half_width * i / end_rib_count)\n",
    "                for i in range(1, end_rib_count)]\n",
    "\n",
    "\n",
    "show_model(TriangularBasketModel())"
   ]
  },
  {
   "cell_type": "markdown",
   "id": "bridal-launch",
   "metadata": {},
   "source": [
    "### Rounded\n",
    "\n",
    "The rounded model assumes that the bottom and the ends are circular."
   ]
  },
  {
   "cell_type": "code",
   "execution_count": 178,
   "id": "dietary-reform",
   "metadata": {},
   "outputs": [
    {
     "name": "stdout",
     "output_type": "stream",
     "text": [
      "RoundedBasketModel(22, 13, 13)\n",
      "\tvolume:  2220.5551857558567  cubic inches\n",
      "\ttotal weight:  611.483981385846  ounces\n",
      "\ttotal rib length:  339.71332299213674  feet\n"
     ]
    }
   ],
   "source": [
    "# RoundedBasketModel\n",
    "\n",
    "class RoundedBasketModel(BaseBasketModel):\n",
    "    \"\"\"RoundedBasketModel provides a simple minded model\n",
    "    for a rounded basket.\"\"\"\n",
    "        \n",
    "    def rib_length(self, center_distance):\n",
    "        return 2 * (rib_top_extra +\n",
    "                    (self.basket_depth - center_distance) +\n",
    "                    # quarter circle:\n",
    "                    (math.pi * center_distance / 2))\n",
    "\n",
    "    @property\n",
    "    def side_rib_length(self):\n",
    "        \"\"\"side_rib_length returns the total length (including any extra for\n",
    "        basket finishing) of a standard side rib for the model.\"\"\"\n",
    "        return self.rib_length(self.basket_width / 2)\n",
    "\n",
    "    @property\n",
    "    def side_rib_section_length(self):\n",
    "        # Each end is shorter by 1/2 basket_width (radius of a circle):\n",
    "        return self.basket_length - self.basket_width\n",
    "\n",
    "    @property\n",
    "    def side_rib_count(self):\n",
    "        return round(self.side_rib_section_length *\n",
    "                     ribs_per_inch)\n",
    "\n",
    "    # The bottom and each end are half cylindars with a semicircle\n",
    "    # base of diameter self.basket_width.\n",
    "    @property\n",
    "    def base_semicircle_area(self):\n",
    "        r = self.basket_width / 2\n",
    "        return math.pi * square(r) / 2\n",
    "\n",
    "    @property\n",
    "    def volume(self):\n",
    "        depth = (self.basket_depth - self.basket_width / 2)\n",
    "        return (# rectangular middle section:\n",
    "                (self.side_rib_section_length *\n",
    "                 self.basket_width *\n",
    "                 depth) +\n",
    "                # Rounded bottom, a semicircular prism:\n",
    "                (self.side_rib_section_length *\n",
    "                 self.base_semicircle_area) +\n",
    "                # Each end is a semicircular prism, there are two:\n",
    "                (2 * depth * self.base_semicircle_area)\n",
    "                )\n",
    "\n",
    "    @property\n",
    "    def end_rib_lengths(self):\n",
    "        half_width = self.basket_width / 2\n",
    "        end_rib_count = round((math.pi * half_width / 2) * ribs_per_inch)\n",
    "        a = (math.pi / 2) / end_rib_count \n",
    "        return [self.rib_length(half_width * math.sin(i * a))\n",
    "                for i in range(1, end_rib_count)]\n",
    "                \n",
    "show_model(RoundedBasketModel())"
   ]
  },
  {
   "cell_type": "markdown",
   "id": "accurate-lithuania",
   "metadata": {},
   "source": [
    "### Comparing Models"
   ]
  },
  {
   "cell_type": "code",
   "execution_count": 179,
   "id": "closed-talent",
   "metadata": {},
   "outputs": [
    {
     "data": {
      "text/html": [
       "<div><table><thead><tr><th style word-break: break-word; text-align: center;>Model</th><th style word-break: break-word; text-align: center;>Volume (cubic inches)</th><th style word-break: break-word; text-align: center;>Rope (feet)</th><th style word-break: break-word; text-align: center;>side rib count</th><th style word-break: break-word; text-align: center;>end rib count</th></tr></thead><tbody><tr><th>RectangularBasketModel(22, 13, 13)</th><td style word-break: break-word; text-align: center;>3718.00</td><td style word-break: break-word; text-align: center;>439.46</td><td style word-break: break-word; text-align: center;>61</td><td style word-break: break-word; text-align: center;>34</td></tr><tr><th>TriangularBasketModel(22, 13, 13)</th><td style word-break: break-word; text-align: center;>1709.92</td><td style word-break: break-word; text-align: center;>301.82</td><td style word-break: break-word; text-align: center;>25</td><td style word-break: break-word; text-align: center;>48</td></tr><tr><th>RoundedBasketModel(22, 13, 13)</th><td style word-break: break-word; text-align: center;>2220.56</td><td style word-break: break-word; text-align: center;>339.71</td><td style word-break: break-word; text-align: center;>25</td><td style word-break: break-word; text-align: center;>54</td></tr></tbody></table><br></br><table><thead><th style word-break: break-word; text-align: center;>Model</th><th style word-break: break-word; text-align: center;>Side Rib Length</th><th style word-break: break-word; text-align: center;>End Rib Lengths</th></thead><tbody><tr><td style word-break: break-word; text-align: center;>RectangularBasketModel(22, 13, 13)</td><td>59.00</td><td style word-break: break-word; text-align: center;>57.92, 56.83, 55.75, 54.67, 53.58, 52.50, 51.42, 50.33, 49.25, 48.17, 47.08, 46.00, 44.92, 43.83, 42.75, 41.67, 40.58</td></tr><tr><td style word-break: break-word; text-align: center;>TriangularBasketModel(22, 13, 13)</td><td>51.38</td><td style word-break: break-word; text-align: center;>46.22, 46.43, 46.65, 46.86, 47.08, 47.29, 47.51, 47.72, 47.94, 48.15, 48.37, 48.58, 48.80, 49.02, 49.23, 49.45, 49.66, 49.88, 50.09, 50.31, 50.52, 50.74, 50.95, 51.17</td></tr><tr><td style word-break: break-word; text-align: center;>RoundedBasketModel(22, 13, 13)</td><td>53.42</td><td style word-break: break-word; text-align: center;>46.42, 46.83, 47.24, 47.65, 48.05, 48.45, 48.84, 49.22, 49.59, 49.95, 50.29, 50.63, 50.94, 51.25, 51.53, 51.80, 52.05, 52.28, 52.49, 52.69, 52.86, 53.00, 53.13, 53.23, 53.32, 53.37, 53.41</td></tr></tbody></table></div>"
      ],
      "text/plain": [
       "<IPython.core.display.HTML object>"
      ]
     },
     "metadata": {},
     "output_type": "display_data"
    }
   ],
   "source": [
    "from IPython.core.display import display, HTML\n",
    "import yattag\n",
    "\n",
    "def compare_models(models):\n",
    "    doc, tag, text = yattag.Doc().tagtext()\n",
    "    cell_attrs = (\n",
    "        (\"style\", \"word-break: break-word; text-align: center;\")\n",
    "    )\n",
    "    with tag(\"div\"):\n",
    "        with tag(\"table\"):\n",
    "            with tag(\"thead\"):\n",
    "                with tag(\"tr\"):\n",
    "                    with tag(\"th\", *cell_attrs):\n",
    "                        text(\"Model\")\n",
    "                    with tag(\"th\", *cell_attrs):\n",
    "                        text(\"Volume (cubic inches)\")\n",
    "                    with tag(\"th\", *cell_attrs):\n",
    "                        text(\"Rope (feet)\")\n",
    "                    with tag(\"th\", *cell_attrs):\n",
    "                        text(\"side rib count\")\n",
    "                    with tag(\"th\", *cell_attrs):\n",
    "                        text(\"end rib count\")\n",
    "            with tag(\"tbody\"):\n",
    "                for model in models:\n",
    "                    with tag(\"tr\"):\n",
    "                        with tag(\"th\"):\n",
    "                            text(repr(model))\n",
    "                        with tag(\"td\", *cell_attrs):\n",
    "                            text(\"%.2f\" % model.volume)\n",
    "                        with tag(\"td\", *cell_attrs):\n",
    "                            text(\"%.2f\" % (model.total_rib_length / 12))\n",
    "                        with tag(\"td\", *cell_attrs):\n",
    "                            text(\"%d\" % model.side_rib_count)\n",
    "                        with tag(\"td\", *cell_attrs):\n",
    "                            text(\"%d\" % (2 * len(model.end_rib_lengths)))\n",
    "        with tag(\"br\"): pass\n",
    "        with tag(\"table\"):\n",
    "            with tag(\"thead\"):\n",
    "                with tag(\"th\", *cell_attrs):\n",
    "                    text(\"Model\")\n",
    "                with tag(\"th\", *cell_attrs):\n",
    "                    text(\"Side Rib Length\")\n",
    "                with tag(\"th\", *cell_attrs):\n",
    "                    text(\"End Rib Lengths\")\n",
    "            with tag(\"tbody\"):\n",
    "                for model in models:\n",
    "                    with tag(\"tr\"):\n",
    "                        with tag(\"td\", *cell_attrs):\n",
    "                            text(repr(model))\n",
    "                        with tag(\"td\"):\n",
    "                            text(\"%.2f\" % model.side_rib_length)\n",
    "                        with tag(\"td\", *cell_attrs):\n",
    "                            text(\", \".join([\"%.2f\" % x\n",
    "                                            for x in model.end_rib_lengths]))\n",
    "    return display(HTML(doc.getvalue()))\n",
    "\n",
    "compare_models([\n",
    "    RectangularBasketModel(),\n",
    "    TriangularBasketModel(),\n",
    "    RoundedBasketModel()\n",
    "])"
   ]
  },
  {
   "cell_type": "markdown",
   "id": "micro-tomato",
   "metadata": {},
   "source": [
    "### Handles\n",
    "\n",
    "The basket should have a handle on each side.\n",
    "\n",
    "For trhe handles to be sturdy they should be part of ribs that extend down each side and across the bottom so that all of the force is along the the lenth of the rope without load on the horizontal weaves.\n",
    "\n",
    "To achieve this, both handles will be formed from the same piece of rope.  The middle of that rope will be in the middle of the bottom and extend across the bottom and up both sides.  There will then be two loops  that form the actual handles.  The rope will then descrnd both sides, cross the bottom and ascent each side, finally terminating with some extra as described above.  This rope will thus replace three regular ribs on each side of the basket.\n",
    "\n",
    "How long should the handles be and where should they meet the brim of the basket?\n",
    "\n",
    "My hand is 4 inches wide.\n",
    "\n",
    "In the absense of any other criteria, having the handles \"attach\" at points 1/3 of the basket's length from each prim will probably do an adequate job of distributing the basket's load fairly eavenly across the basket's length.\n",
    "\n",
    "When the basket is full the handles should stilll mett comfortably in the middle -- half way across basket_width."
   ]
  },
  {
   "cell_type": "code",
   "execution_count": 180,
   "id": "other-bradford",
   "metadata": {
    "scrolled": true
   },
   "outputs": [
    {
     "name": "stdout",
     "output_type": "stream",
     "text": [
      "handle_rope_length: 182.36903055264406 inches\n"
     ]
    }
   ],
   "source": [
    "# The handle rope\n",
    "\n",
    "# The handle rrope replaces this many rib ropes\n",
    "handle_rib_count = 3\n",
    "\n",
    "handle_length = 4    # inches\n",
    "\n",
    "handle_fraction_from_end = 1/3\n",
    "\n",
    "handle_rope_length = 2 * (\n",
    "    # Measuring from the middle of the rope:\n",
    "    basket_width / 2    # from middle of bottom to side\n",
    "    + basket_depth      # up the side to the brim\n",
    "    # from the brim to the handle, doupled since\n",
    "    # there's the same length after the handle but\n",
    "    # we don't want to repeat this calculation\n",
    "    + 2 * math.sqrt(2 * square(basket_width / 2) +\n",
    "                    square((basket_length\n",
    "                            * (1 - 2 * handle_fraction_from_end)\n",
    "                            - handle_length) / 2))\n",
    "    + handle_length    # the handle proper\n",
    "    + basket_depth     # down the side\n",
    "    + basket_width     # across the bottom\n",
    "    + basket_depth     # up the side\n",
    "    + rib_top_extra\n",
    ")\n",
    "    \n",
    "print(\"handle_rope_length: \" + str(handle_rope_length) + \" inches\")"
   ]
  }
 ],
 "metadata": {
  "kernelspec": {
   "display_name": "Python 3",
   "language": "python",
   "name": "python3"
  },
  "language_info": {
   "codemirror_mode": {
    "name": "ipython",
    "version": 3
   },
   "file_extension": ".py",
   "mimetype": "text/x-python",
   "name": "python",
   "nbconvert_exporter": "python",
   "pygments_lexer": "ipython3",
   "version": "3.6.2"
  }
 },
 "nbformat": 4,
 "nbformat_minor": 5
}
